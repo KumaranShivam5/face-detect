{
 "cells": [
  {
   "cell_type": "markdown",
   "metadata": {},
   "source": [
    "# Neural Network Classifier"
   ]
  },
  {
   "cell_type": "markdown",
   "metadata": {},
   "source": [
    "now once we have converterd the image data to a lower dmiensional vector <br>\n",
    "we can use a sequential neural network to <br>\n",
    "train the classifier\n",
    "<hr>\n",
    "The input array is 400 images reduced to lower dimension <br>(no of dimensions is equal to the number of eigen faces used)\n",
    "each image is in the form oof a 100 dim vector.\n",
    "<br> The data faces are for 40 people with 10 images of each people<br>\n",
    "The labels are from 1-10, for different person \n",
    "<br> these labels will be converted in the form of one-hot-vector\n",
    "<hr>"
   ]
  },
  {
   "cell_type": "code",
   "execution_count": 10,
   "metadata": {},
   "outputs": [],
   "source": [
    "import numpy as np\n",
    "from keras.models import Sequential\n",
    "from keras.layers import Dense, Activation\n",
    "from keras.utils import to_categorical"
   ]
  },
  {
   "cell_type": "code",
   "execution_count": 49,
   "metadata": {},
   "outputs": [],
   "source": [
    "model=Sequential()\n",
    "model.add(Dense(64, activation='relu',input_dim=500))\n",
    "model.add(Dense(64,activation='relu'))\n",
    "model.add(Dense(40,activation='softmax'))\n",
    "\n",
    "model.compile(optimizer='rmsprop',loss='categorical_crossentropy',metrics=['accuracy'])"
   ]
  },
  {
   "cell_type": "code",
   "execution_count": 50,
   "metadata": {},
   "outputs": [],
   "source": [
    "train_data=np.loadtxt('train_data.csv',delimiter=',')\n",
    "train_labels=np.loadtxt('train_labels.csv',delimiter=',')\n",
    "test_data=np.loadtxt('test_data.csv',delimiter=',')\n",
    "test_labels=np.loadtxt('test_labels.csv',delimiter=',')"
   ]
  },
  {
   "cell_type": "code",
   "execution_count": 51,
   "metadata": {},
   "outputs": [],
   "source": [
    "# need to convert labels to one hot vector form\n",
    "# here i will be using keras built-in one hot encoder\n",
    "one_hot_train=to_categorical(train_labels,num_classes=40)\n",
    "one_hot_test=to_categorical(test_labels,num_classes=40)"
   ]
  },
  {
   "cell_type": "code",
   "execution_count": 57,
   "metadata": {},
   "outputs": [
    {
     "name": "stdout",
     "output_type": "stream",
     "text": [
      "Epoch 1/10\n",
      "360/360 [==============================] - 0s 263us/step - loss: 0.8935 - accuracy: 0.9528\n",
      "Epoch 2/10\n",
      "360/360 [==============================] - 0s 149us/step - loss: 0.6976 - accuracy: 0.9667\n",
      "Epoch 3/10\n",
      "360/360 [==============================] - 0s 149us/step - loss: 0.5284 - accuracy: 0.9750\n",
      "Epoch 4/10\n",
      "360/360 [==============================] - 0s 137us/step - loss: 0.3918 - accuracy: 0.9944\n",
      "Epoch 5/10\n",
      "360/360 [==============================] - 0s 119us/step - loss: 0.2867 - accuracy: 0.9944\n",
      "Epoch 6/10\n",
      "360/360 [==============================] - 0s 157us/step - loss: 0.2024 - accuracy: 0.9972\n",
      "Epoch 7/10\n",
      "360/360 [==============================] - 0s 136us/step - loss: 0.1422 - accuracy: 1.0000\n",
      "Epoch 8/10\n",
      "360/360 [==============================] - 0s 123us/step - loss: 0.0973 - accuracy: 1.0000\n",
      "Epoch 9/10\n",
      "360/360 [==============================] - 0s 122us/step - loss: 0.0661 - accuracy: 1.0000\n",
      "Epoch 10/10\n",
      "360/360 [==============================] - 0s 137us/step - loss: 0.0438 - accuracy: 1.0000\n"
     ]
    },
    {
     "data": {
      "text/plain": [
       "<keras.callbacks.callbacks.History at 0x7fd768535510>"
      ]
     },
     "execution_count": 57,
     "metadata": {},
     "output_type": "execute_result"
    }
   ],
   "source": [
    "model.fit(train_data,one_hot_labels,epochs=10)"
   ]
  },
  {
   "cell_type": "code",
   "execution_count": 58,
   "metadata": {},
   "outputs": [
    {
     "name": "stdout",
     "output_type": "stream",
     "text": [
      "40/40 [==============================] - 0s 104us/step\n",
      "['loss', 'accuracy']\n",
      "[0.3169303834438324, 0.925000011920929]\n"
     ]
    }
   ],
   "source": [
    "score=model.evaluate(test_data,one_hot_test)\n",
    "print(model.metrics_names)\n",
    "print(score)"
   ]
  }
 ],
 "metadata": {
  "kernelspec": {
   "display_name": "Python 3",
   "language": "python",
   "name": "python3"
  },
  "language_info": {
   "codemirror_mode": {
    "name": "ipython",
    "version": 3
   },
   "file_extension": ".py",
   "mimetype": "text/x-python",
   "name": "python",
   "nbconvert_exporter": "python",
   "pygments_lexer": "ipython3",
   "version": "3.7.6"
  }
 },
 "nbformat": 4,
 "nbformat_minor": 4
}
